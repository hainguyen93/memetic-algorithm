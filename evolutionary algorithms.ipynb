{
 "cells": [
  {
   "cell_type": "code",
   "execution_count": 1,
   "metadata": {
    "collapsed": true
   },
   "outputs": [],
   "source": [
    "import numpy as np\n",
    "import random\n",
    "from math import ceil\n",
    "from __future__ import division\n",
    "import matplotlib.pyplot as plt"
   ]
  },
  {
   "cell_type": "code",
   "execution_count": 2,
   "metadata": {
    "collapsed": true
   },
   "outputs": [],
   "source": [
    "# definition of hurdle problem\n",
    "def hurdle(w,x):\n",
    "    z = np.sum(1-x)\n",
    "    return -ceil(z/w)-(z%w)/w"
   ]
  },
  {
   "cell_type": "code",
   "execution_count": 3,
   "metadata": {
    "collapsed": true
   },
   "outputs": [],
   "source": [
    "#flip a bit with probability p\n",
    "def flip(b,p):\n",
    "    r = random.random()\n",
    "    if r <= p: \n",
    "        return 1-b\n",
    "    else: \n",
    "        return b"
   ]
  },
  {
   "cell_type": "code",
   "execution_count": 4,
   "metadata": {
    "collapsed": true
   },
   "outputs": [],
   "source": [
    "# mutation operator with mutation rate p\n",
    "def mutate(x,p):\n",
    "    for i in range(x.size):\n",
    "        x[i] = flip(x[i],p)\n",
    "    return x"
   ]
  },
  {
   "cell_type": "code",
   "execution_count": 5,
   "metadata": {
    "collapsed": true
   },
   "outputs": [],
   "source": [
    "# sample the initial individual u.a.r.\n",
    "def initialise(n):\n",
    "    return np.array([random.randint(0,1) for i in range(n)])"
   ]
  },
  {
   "cell_type": "code",
   "execution_count": 6,
   "metadata": {
    "collapsed": true
   },
   "outputs": [],
   "source": [
    "# deep copy of array x to new array y\n",
    "def clone(x):\n",
    "    return np.array([i for i in x]);"
   ]
  },
  {
   "cell_type": "code",
   "execution_count": 7,
   "metadata": {},
   "outputs": [],
   "source": [
    "def equal(x,y):\n",
    "    epsilon = 0.0000001\n",
    "    return abs(x-y)<epsilon"
   ]
  },
  {
   "cell_type": "code",
   "execution_count": 15,
   "metadata": {
    "collapsed": true
   },
   "outputs": [],
   "source": [
    "# first improvement local search\n",
    "def fils(x, depth, w, t):\n",
    "    indx = np.arange(x.size)\n",
    "    for j in range(depth):\n",
    "        flag = False\n",
    "        np.random.shuffle(indx)\n",
    "        for i in indx:\n",
    "            y = clone(x)\n",
    "            y[i] = 1 - y[i] \n",
    "            t = t+1\n",
    "            if hurdle(w,y) > hurdle(w,x): \n",
    "                x = clone(y)\n",
    "                flag = True\n",
    "                break\n",
    "        if not flag: \n",
    "            break\n",
    "    return x, t"
   ]
  },
  {
   "cell_type": "code",
   "execution_count": 16,
   "metadata": {
    "collapsed": true
   },
   "outputs": [],
   "source": [
    "# best improvement local search\n",
    "def bils(x, depth, w, t):\n",
    "    for j in range(depth):\n",
    "        best_inds = []\n",
    "        fittest  = hurdle(w,x)\n",
    "        for i in range(x.size):\n",
    "            y = clone(x)\n",
    "            y[i] = 1- y[i]\n",
    "            t = t+1\n",
    "            if hurdle(w,y) > fittest:\n",
    "                best_inds = [y]\n",
    "                fittest = hurdle(w,y)\n",
    "            elif equal(hurdle(w,y),fittest):\n",
    "                best_inds.append(y)\n",
    "        if len(best_inds)==0:\n",
    "            break\n",
    "        else:\n",
    "            r = random.randint(0,len(best_inds)-1)\n",
    "            x = clone(best_inds[r])\n",
    "    return x, t"
   ]
  },
  {
   "cell_type": "code",
   "execution_count": 17,
   "metadata": {
    "collapsed": true
   },
   "outputs": [],
   "source": [
    "  # (1+1) EA\n",
    "def one_one_ea(n, rate, w):\n",
    "    p = rate/n\n",
    "    t = 0\n",
    "    x = initialise(n)\n",
    "    while np.sum(x)!=n:\n",
    "        y = clone(x)\n",
    "        y = mutate(y,p)\n",
    "        t = t+1\n",
    "        if hurdle(w,y)>= hurdle(w,x):\n",
    "            x = clone(y)\n",
    "    return t"
   ]
  },
  {
   "cell_type": "code",
   "execution_count": 18,
   "metadata": {
    "collapsed": true
   },
   "outputs": [],
   "source": [
    "def one_one_ma(n, rate, depth, w, first):\n",
    "    p = rate/n\n",
    "    t = 0\n",
    "    x = initialise(n)\n",
    "    while np.sum(x)!=n:\n",
    "        y = clone(x)\n",
    "        y = mutate(y,p)     \n",
    "        if first:\n",
    "            y, t = fils(y, depth, w, t)\n",
    "        else:\n",
    "            y, t = bils(y, depth, w, t)\n",
    "        if hurdle(w,y) >= hurdle(w,x):\n",
    "            x = clone(y)\n",
    "    return t\n",
    "    "
   ]
  },
  {
   "cell_type": "code",
   "execution_count": 24,
   "metadata": {},
   "outputs": [
    {
     "data": {
      "text/plain": [
       "1005565"
      ]
     },
     "execution_count": 24,
     "metadata": {},
     "output_type": "execute_result"
    }
   ],
   "source": [
    "one_one_ea(100,1,3)"
   ]
  },
  {
   "cell_type": "code",
   "execution_count": 25,
   "metadata": {},
   "outputs": [
    {
     "data": {
      "text/plain": [
       "263885"
      ]
     },
     "execution_count": 25,
     "metadata": {},
     "output_type": "execute_result"
    }
   ],
   "source": [
    "one_one_ma(100,1,3,3,True)\n"
   ]
  },
  {
   "cell_type": "code",
   "execution_count": 26,
   "metadata": {},
   "outputs": [
    {
     "data": {
      "text/plain": [
       "2872700"
      ]
     },
     "execution_count": 26,
     "metadata": {},
     "output_type": "execute_result"
    }
   ],
   "source": [
    "one_one_ma(100,1,3,3,False)"
   ]
  },
  {
   "cell_type": "code",
   "execution_count": null,
   "metadata": {
    "collapsed": true
   },
   "outputs": [],
   "source": []
  }
 ],
 "metadata": {
  "kernelspec": {
   "display_name": "Python 3",
   "language": "python",
   "name": "python3"
  },
  "language_info": {
   "codemirror_mode": {
    "name": "ipython",
    "version": 3
   },
   "file_extension": ".py",
   "mimetype": "text/x-python",
   "name": "python",
   "nbconvert_exporter": "python",
   "pygments_lexer": "ipython3",
   "version": "3.6.1"
  }
 },
 "nbformat": 4,
 "nbformat_minor": 2
}
